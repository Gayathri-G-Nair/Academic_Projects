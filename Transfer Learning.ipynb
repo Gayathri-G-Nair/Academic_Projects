{
  "nbformat": 4,
  "nbformat_minor": 0,
  "metadata": {
    "colab": {
      "name": "Untitled0.ipynb",
      "provenance": [],
      "collapsed_sections": []
    },
    "kernelspec": {
      "name": "python3",
      "display_name": "Python 3"
    },
    "accelerator": "GPU"
  },
  "cells": [
    {
      "cell_type": "code",
      "metadata": {
        "id": "l3kIYa_KG9e3",
        "colab_type": "code",
        "colab": {}
      },
      "source": [
        "# import Libraries\n",
        "from fastai import *\n",
        "from fastai.text import *\n",
        "from pathlib import Path\n",
        "import pandas as pd\n",
        "import numpy as np\n",
        "import re\n",
        "import string"
      ],
      "execution_count": 0,
      "outputs": []
    },
    {
      "cell_type": "code",
      "metadata": {
        "id": "sBR4hAE1F76X",
        "colab_type": "code",
        "colab": {}
      },
      "source": [
        "#import Dataset\n",
        "\n",
        "train_data = pd.read_csv('/content/gdrive/My Drive/train.csv')\n",
        "test_data = pd.read_csv('/content/gdrive/My Drive/test.csv')"
      ],
      "execution_count": 0,
      "outputs": []
    },
    {
      "cell_type": "code",
      "metadata": {
        "id": "DKqfKlUWKzBI",
        "colab_type": "code",
        "outputId": "b6427194-288c-430e-9603-09df1f585df2",
        "colab": {
          "base_uri": "https://localhost:8080/",
          "height": 52
        }
      },
      "source": [
        "import torch\n",
        "print(\"Cuda available\" if torch.cuda.is_available() is True else \"CPU\")\n",
        "print(\"PyTorch version: \", torch.__version__)"
      ],
      "execution_count": 0,
      "outputs": [
        {
          "output_type": "stream",
          "text": [
            "Cuda available\n",
            "PyTorch version:  1.1.0\n"
          ],
          "name": "stdout"
        }
      ]
    },
    {
      "cell_type": "code",
      "metadata": {
        "id": "_62ZDx5dLDbk",
        "colab_type": "code",
        "outputId": "2cdc4359-7b3a-4d3a-c1f5-1d88b65a093a",
        "colab": {
          "base_uri": "https://localhost:8080/",
          "height": 271
        }
      },
      "source": [
        "# Plot value counts for rach stance in the dataset\n",
        "train_data['label'].value_counts().plot.bar(rot=30);"
      ],
      "execution_count": 0,
      "outputs": [
        {
          "output_type": "display_data",
          "data": {
            "image/png": "[encoded data removed]",
            "text/plain": [
              "<Figure size 432x288 with 1 Axes>"
            ]
          },
          "metadata": {
            "tags": []
          }
        }
      ]
    },
    {
      "cell_type": "code",
      "metadata": {
        "id": "MluqlkUVMa6e",
        "colab_type": "code",
        "outputId": "3d4d0cab-8390-4d64-dd59-39332bd03a6b",
        "colab": {
          "base_uri": "https://localhost:8080/",
          "height": 195
        }
      },
      "source": [
        "train_data.head()"
      ],
      "execution_count": 0,
      "outputs": [
        {
          "output_type": "execute_result",
          "data": {
            "text/html": [
              "<div>\n",
              "<style scoped>\n",
              "    .dataframe tbody tr th:only-of-type {\n",
              "        vertical-align: middle;\n",
              "    }\n",
              "\n",
              "    .dataframe tbody tr th {\n",
              "        vertical-align: top;\n",
              "    }\n",
              "\n",
              "    .dataframe thead th {\n",
              "        text-align: right;\n",
              "    }\n",
              "</style>\n",
              "<table border=\"1\" class=\"dataframe\">\n",
              "  <thead>\n",
              "    <tr style=\"text-align: right;\">\n",
              "      <th></th>\n",
              "      <th>id</th>\n",
              "      <th>title</th>\n",
              "      <th>author</th>\n",
              "      <th>text</th>\n",
              "      <th>label</th>\n",
              "    </tr>\n",
              "  </thead>\n",
              "  <tbody>\n",
              "    <tr>\n",
              "      <th>0</th>\n",
              "      <td>0</td>\n",
              "      <td>House Dem Aide: We Didn’t Even See Comey’s Let...</td>\n",
              "      <td>Darrell Lucus</td>\n",
              "      <td>House Dem Aide: We Didn’t Even See Comey’s Let...</td>\n",
              "      <td>1</td>\n",
              "    </tr>\n",
              "    <tr>\n",
              "      <th>1</th>\n",
              "      <td>1</td>\n",
              "      <td>FLYNN: Hillary Clinton, Big Woman on Campus - ...</td>\n",
              "      <td>Daniel J. Flynn</td>\n",
              "      <td>Ever get the feeling your life circles the rou...</td>\n",
              "      <td>0</td>\n",
              "    </tr>\n",
              "    <tr>\n",
              "      <th>2</th>\n",
              "      <td>2</td>\n",
              "      <td>Why the Truth Might Get You Fired</td>\n",
              "      <td>Consortiumnews.com</td>\n",
              "      <td>Why the Truth Might Get You Fired October 29, ...</td>\n",
              "      <td>1</td>\n",
              "    </tr>\n",
              "    <tr>\n",
              "      <th>3</th>\n",
              "      <td>3</td>\n",
              "      <td>15 Civilians Killed In Single US Airstrike Hav...</td>\n",
              "      <td>Jessica Purkiss</td>\n",
              "      <td>Videos 15 Civilians Killed In Single US Airstr...</td>\n",
              "      <td>1</td>\n",
              "    </tr>\n",
              "    <tr>\n",
              "      <th>4</th>\n",
              "      <td>4</td>\n",
              "      <td>Iranian woman jailed for fictional unpublished...</td>\n",
              "      <td>Howard Portnoy</td>\n",
              "      <td>Print \\nAn Iranian woman has been sentenced to...</td>\n",
              "      <td>1</td>\n",
              "    </tr>\n",
              "  </tbody>\n",
              "</table>\n",
              "</div>"
            ],
            "text/plain": [
              "   id                                              title              author  \\\n",
              "0   0  House Dem Aide: We Didn’t Even See Comey’s Let...       Darrell Lucus   \n",
              "1   1  FLYNN: Hillary Clinton, Big Woman on Campus - ...     Daniel J. Flynn   \n",
              "2   2                  Why the Truth Might Get You Fired  Consortiumnews.com   \n",
              "3   3  15 Civilians Killed In Single US Airstrike Hav...     Jessica Purkiss   \n",
              "4   4  Iranian woman jailed for fictional unpublished...      Howard Portnoy   \n",
              "\n",
              "                                                text  label  \n",
              "0  House Dem Aide: We Didn’t Even See Comey’s Let...      1  \n",
              "1  Ever get the feeling your life circles the rou...      0  \n",
              "2  Why the Truth Might Get You Fired October 29, ...      1  \n",
              "3  Videos 15 Civilians Killed In Single US Airstr...      1  \n",
              "4  Print \\nAn Iranian woman has been sentenced to...      1  "
            ]
          },
          "metadata": {
            "tags": []
          },
          "execution_count": 13
        }
      ]
    },
    {
      "cell_type": "code",
      "metadata": {
        "id": "i-1k6jI-MlbS",
        "colab_type": "code",
        "colab": {}
      },
      "source": [
        "train_data['text'] = train_data['text'].str.replace(\"[^a-zA-Z]\", \" \")"
      ],
      "execution_count": 0,
      "outputs": []
    },
    {
      "cell_type": "code",
      "metadata": {
        "id": "knPMMF99N0NZ",
        "colab_type": "code",
        "outputId": "b639b81e-6906-44e3-9b45-7b1547504401",
        "colab": {
          "base_uri": "https://localhost:8080/",
          "height": 67
        }
      },
      "source": [
        "import nltk\n",
        "nltk.download('stopwords')"
      ],
      "execution_count": 0,
      "outputs": [
        {
          "output_type": "stream",
          "text": [
            "[nltk_data] Downloading package stopwords to /root/nltk_data...\n",
            "[nltk_data]   Unzipping corpora/stopwords.zip.\n"
          ],
          "name": "stdout"
        },
        {
          "output_type": "execute_result",
          "data": {
            "text/plain": [
              "True"
            ]
          },
          "metadata": {
            "tags": []
          },
          "execution_count": 34
        }
      ]
    },
    {
      "cell_type": "code",
      "metadata": {
        "id": "ZMIDLRtZN6Y8",
        "colab_type": "code",
        "colab": {}
      },
      "source": [
        "from nltk.corpus import stopwords \n",
        "stop_words = stopwords.words('english')"
      ],
      "execution_count": 0,
      "outputs": []
    },
    {
      "cell_type": "code",
      "metadata": {
        "id": "w3FqZPN2GCVS",
        "colab_type": "code",
        "colab": {}
      },
      "source": [
        "# Lets Clean the Datasets\n",
        "missing_rows = []\n",
        "for i in range(len(train_data)):\n",
        "  if train_data.loc[i, 'text'] != train_data.loc[i, 'text']:\n",
        "    missing_rows.append(i)\n",
        "train_data = train_data.drop(missing_rows).reset_index().drop(['index','id'],axis=1)"
      ],
      "execution_count": 0,
      "outputs": []
    },
    {
      "cell_type": "code",
      "metadata": {
        "id": "aiwpax1oPnUt",
        "colab_type": "code",
        "colab": {}
      },
      "source": [
        "def textClean(text):\n",
        "    \"\"\"\n",
        "    Get rid of the non-letter and non-number characters\n",
        "    \"\"\"\n",
        "    text = re.sub(r\"[^A-Za-z0-9^,!.\\/'+-=]\", \" \", text)\n",
        "    text = text.lower().split()\n",
        "    stops = set(stopwords.words(\"english\"))\n",
        "    text = [w for w in text if not w in stops]\n",
        "    text = \" \".join(text)\n",
        "    return (text)\n",
        "\n",
        "\n",
        "def cleanup(text):\n",
        "    text = textClean(text)\n",
        "    text = text.translate(str.maketrans(\"\", \"\", string.punctuation))\n",
        "    return text"
      ],
      "execution_count": 0,
      "outputs": []
    },
    {
      "cell_type": "code",
      "metadata": {
        "id": "Qne7VEIbPxNT",
        "colab_type": "code",
        "colab": {}
      },
      "source": [
        "for i in range(len(train_data)):\n",
        "        train_data.loc[i, 'text'] = cleanup(train_data.loc[i,'text'])"
      ],
      "execution_count": 0,
      "outputs": []
    },
    {
      "cell_type": "code",
      "metadata": {
        "id": "7yE1d9HxQzRx",
        "colab_type": "code",
        "outputId": "ae735ab9-4903-44af-b727-924e1543cbcd",
        "colab": {
          "base_uri": "https://localhost:8080/",
          "height": 195
        }
      },
      "source": [
        "train = pd.concat([train_data['label'], train_data['text']], axis=1)\n",
        "train.tail()"
      ],
      "execution_count": 0,
      "outputs": [
        {
          "output_type": "execute_result",
          "data": {
            "text/html": [
              "<div>\n",
              "<style scoped>\n",
              "    .dataframe tbody tr th:only-of-type {\n",
              "        vertical-align: middle;\n",
              "    }\n",
              "\n",
              "    .dataframe tbody tr th {\n",
              "        vertical-align: top;\n",
              "    }\n",
              "\n",
              "    .dataframe thead th {\n",
              "        text-align: right;\n",
              "    }\n",
              "</style>\n",
              "<table border=\"1\" class=\"dataframe\">\n",
              "  <thead>\n",
              "    <tr style=\"text-align: right;\">\n",
              "      <th></th>\n",
              "      <th>label</th>\n",
              "      <th>text</th>\n",
              "    </tr>\n",
              "  </thead>\n",
              "  <tbody>\n",
              "    <tr>\n",
              "      <th>20756</th>\n",
              "      <td>0</td>\n",
              "      <td>rapper unloaded black celebrities met donald t...</td>\n",
              "    </tr>\n",
              "    <tr>\n",
              "      <th>20757</th>\n",
              "      <td>0</td>\n",
              "      <td>green bay packers lost washington redskins wee...</td>\n",
              "    </tr>\n",
              "    <tr>\n",
              "      <th>20758</th>\n",
              "      <td>0</td>\n",
              "      <td>macy today grew union several great names amer...</td>\n",
              "    </tr>\n",
              "    <tr>\n",
              "      <th>20759</th>\n",
              "      <td>1</td>\n",
              "      <td>nato russia hold parallel exercises balkans pr...</td>\n",
              "    </tr>\n",
              "    <tr>\n",
              "      <th>20760</th>\n",
              "      <td>1</td>\n",
              "      <td>david swanson author activist journalist radio...</td>\n",
              "    </tr>\n",
              "  </tbody>\n",
              "</table>\n",
              "</div>"
            ],
            "text/plain": [
              "       label                                               text\n",
              "20756      0  rapper unloaded black celebrities met donald t...\n",
              "20757      0  green bay packers lost washington redskins wee...\n",
              "20758      0  macy today grew union several great names amer...\n",
              "20759      1  nato russia hold parallel exercises balkans pr...\n",
              "20760      1  david swanson author activist journalist radio..."
            ]
          },
          "metadata": {
            "tags": []
          },
          "execution_count": 26
        }
      ]
    },
    {
      "cell_type": "code",
      "metadata": {
        "id": "NVsZyqjlRJdM",
        "colab_type": "code",
        "colab": {}
      },
      "source": [
        "train.to_csv('/content/gdrive/My Drive/traindata.csv', index=False, header=False)"
      ],
      "execution_count": 0,
      "outputs": []
    },
    {
      "cell_type": "code",
      "metadata": {
        "id": "Hub5xx32b0D8",
        "colab_type": "code",
        "colab": {}
      },
      "source": [
        "# Language model data\n",
        "path = '/content'\n",
        "data_lm = TextLMDataBunch.from_csv(path, 'trrain.csv', min_freq=1)"
      ],
      "execution_count": 0,
      "outputs": []
    },
    {
      "cell_type": "code",
      "metadata": {
        "id": "UAb6ufdIkItW",
        "colab_type": "code",
        "colab": {}
      },
      "source": [
        "data_lm.save()"
      ],
      "execution_count": 0,
      "outputs": []
    },
    {
      "cell_type": "code",
      "metadata": {
        "id": "WL6xXRblkQeg",
        "colab_type": "code",
        "outputId": "1732dd3c-e666-44d9-a365-5c11d33b0dc8",
        "colab": {
          "base_uri": "https://localhost:8080/",
          "height": 467
        }
      },
      "source": [
        "\n",
        "data_lm.show_batch()"
      ],
      "execution_count": 0,
      "outputs": [
        {
          "output_type": "display_data",
          "data": {
            "text/html": [
              "<table border=\"1\" class=\"dataframe\">\n",
              "  <thead>\n",
              "    <tr style=\"text-align: right;\">\n",
              "      <th>idx</th>\n",
              "      <th>text</th>\n",
              "    </tr>\n",
              "  </thead>\n",
              "  <tbody>\n",
              "    <tr>\n",
              "      <td>0</td>\n",
              "      <td>transforming life one night time harmony call bed also inspiring turbocharged national tour involves sleep fairs colleges educational takeover jetblue flight gave books answered questions want rekindle romance sleep said ms huffington lullaby voice soothing floral perfume central part life gateway dreams sleep gateway dreams bedroom mother ship one four vast apartment transformed years ago help designer steven gambrel minimalist loft said wanted something felt european achieve hired mr gambrel</td>\n",
              "    </tr>\n",
              "    <tr>\n",
              "      <td>1</td>\n",
              "      <td>passed year united nations educational scientific cultural organization unesco deny indisputable jewish nexus holy city april member body voted favor asinine wholly one sided resolution referred jewish holy sites jerusalem exclusively muslim names designated temple mount judaism holiest site muslim holy site worship add insult injury resolution also adopted wild conspiracy theories including claim israel planting jewish fake graves spaces muslim cemeteries unsurprisingly resolution submitted seven muslim nations passed wide</td>\n",
              "    </tr>\n",
              "    <tr>\n",
              "      <td>2</td>\n",
              "      <td>new model became available john meyer entrepreneur new york made reservation time flight newark los angeles worried would miss plane went called car game changer everything wants cool beautiful powerful said well environmentally friendly could bought prius said would looked like audi xxbos home world experts britain national security stake infiltrated eu experts britain national security stake infiltrated eu guy fawkes corruptio optimi pessima est london england high court decision</td>\n",
              "    </tr>\n",
              "    <tr>\n",
              "      <td>3</td>\n",
              "      <td>alleged retaliation comes considerable time plaintiff first complained discrimination approach hardly bulletproof trend downsides however goal root address actual discrimination whole point wrongdoing workplace want make sure employer understands corrects go future ms calvert said focus primarily retaliation getting effect extreme situation aggressively policing retaliation setting dauntingly high bar many types discrimination claims could odd effect making relatively easy workers confront employers giving employers little incentive change certain corrosive practices</td>\n",
              "    </tr>\n",
              "    <tr>\n",
              "      <td>4</td>\n",
              "      <td>stop u gymnastics done stop mad knowing said abuse many levels complete betrayal think sport young girls young girls wearing leotards prancing around legs flying place u gymnastics would educate gymnasts coaches parents sexual abuse knew larson said could saved others countless others u center safesport existed competing many victims come forward yet said know national team members olympians least u gymnastics united states olympic committee could mandated sexual abuse</td>\n",
              "    </tr>\n",
              "  </tbody>\n",
              "</table>"
            ],
            "text/plain": [
              "<IPython.core.display.HTML object>"
            ]
          },
          "metadata": {
            "tags": []
          }
        }
      ]
    },
    {
      "cell_type": "code",
      "metadata": {
        "id": "3xzttDlVkhoF",
        "colab_type": "code",
        "colab": {}
      },
      "source": [
        "learn = language_model_learner(data_lm, AWD_LSTM, drop_mult=0.1)"
      ],
      "execution_count": 0,
      "outputs": []
    },
    {
      "cell_type": "code",
      "metadata": {
        "id": "gpeWSUYLk6Ql",
        "colab_type": "code",
        "outputId": "887dcc95-7e10-4aac-ca2e-687955ab7017",
        "colab": {
          "base_uri": "https://localhost:8080/",
          "height": 469
        }
      },
      "source": [
        "list(learn.model.children())"
      ],
      "execution_count": 0,
      "outputs": [
        {
          "output_type": "execute_result",
          "data": {
            "text/plain": [
              "[AWD_LSTM(\n",
              "   (encoder): Embedding(44208, 400, padding_idx=1)\n",
              "   (encoder_dp): EmbeddingDropout(\n",
              "     (emb): Embedding(44208, 400, padding_idx=1)\n",
              "   )\n",
              "   (rnns): ModuleList(\n",
              "     (0): WeightDropout(\n",
              "       (module): LSTM(400, 1150, batch_first=True)\n",
              "     )\n",
              "     (1): WeightDropout(\n",
              "       (module): LSTM(1150, 1150, batch_first=True)\n",
              "     )\n",
              "     (2): WeightDropout(\n",
              "       (module): LSTM(1150, 400, batch_first=True)\n",
              "     )\n",
              "   )\n",
              "   (input_dp): RNNDropout()\n",
              "   (hidden_dps): ModuleList(\n",
              "     (0): RNNDropout()\n",
              "     (1): RNNDropout()\n",
              "     (2): RNNDropout()\n",
              "   )\n",
              " ), LinearDecoder(\n",
              "   (decoder): Linear(in_features=400, out_features=44208, bias=True)\n",
              "   (output_dp): RNNDropout()\n",
              " )]"
            ]
          },
          "metadata": {
            "tags": []
          },
          "execution_count": 8
        }
      ]
    },
    {
      "cell_type": "code",
      "metadata": {
        "id": "gA8Dhmw7lFX4",
        "colab_type": "code",
        "outputId": "d2982dac-82b6-4276-9e63-0a36e3e2ca8c",
        "colab": {
          "base_uri": "https://localhost:8080/",
          "height": 300
        }
      },
      "source": [
        "learn.lr_find(start_lr=1e-8, end_lr=1e2)\n",
        "learn.recorder.plot()"
      ],
      "execution_count": 0,
      "outputs": [
        {
          "output_type": "display_data",
          "data": {
            "text/html": [
              ""
            ],
            "text/plain": [
              "<IPython.core.display.HTML object>"
            ]
          },
          "metadata": {
            "tags": []
          }
        },
        {
          "output_type": "stream",
          "text": [
            "LR Finder is complete, type {learner_name}.recorder.plot() to see the graph.\n"
          ],
          "name": "stdout"
        },
        {
          "output_type": "display_data",
          "data": {
            "image/png": "[encoded data removed]",
            "text/plain": [
              "<Figure size 432x288 with 1 Axes>"
            ]
          },
          "metadata": {
            "tags": []
          }
        }
      ]
    },
    {
      "cell_type": "code",
      "metadata": {
        "id": "PStH9z1Nl3IZ",
        "colab_type": "code",
        "outputId": "c880a18e-ac25-497b-d6e0-be881d2ec2e4",
        "colab": {
          "base_uri": "https://localhost:8080/",
          "height": 81
        }
      },
      "source": [
        "learn = language_model_learner(data_lm, AWD_LSTM, drop_mult=0.5)\n",
        "learn.fit_one_cycle(cyc_len=1, max_lr=1e-3, moms=(0.8, 0.7))"
      ],
      "execution_count": 0,
      "outputs": [
        {
          "output_type": "display_data",
          "data": {
            "text/html": [
              "<table border=\"1\" class=\"dataframe\">\n",
              "  <thead>\n",
              "    <tr style=\"text-align: left;\">\n",
              "      <th>epoch</th>\n",
              "      <th>train_loss</th>\n",
              "      <th>valid_loss</th>\n",
              "      <th>accuracy</th>\n",
              "      <th>time</th>\n",
              "    </tr>\n",
              "  </thead>\n",
              "  <tbody>\n",
              "    <tr>\n",
              "      <td>0</td>\n",
              "      <td>8.964356</td>\n",
              "      <td>8.255980</td>\n",
              "      <td>0.041397</td>\n",
              "      <td>00:55</td>\n",
              "    </tr>\n",
              "  </tbody>\n",
              "</table>"
            ],
            "text/plain": [
              "<IPython.core.display.HTML object>"
            ]
          },
          "metadata": {
            "tags": []
          }
        }
      ]
    },
    {
      "cell_type": "code",
      "metadata": {
        "id": "UwtlpHLayOAe",
        "colab_type": "code",
        "outputId": "10d8288a-27ec-4347-95cf-553be97f31c8",
        "colab": {
          "base_uri": "https://localhost:8080/",
          "height": 269
        }
      },
      "source": [
        "#Train the learner object\n",
        "learn.unfreeze()\n",
        "learn.fit_one_cycle(cyc_len=7, max_lr=1e-3, moms=(0.8, 0.7))"
      ],
      "execution_count": 0,
      "outputs": [
        {
          "output_type": "display_data",
          "data": {
            "text/html": [
              "<table border=\"1\" class=\"dataframe\">\n",
              "  <thead>\n",
              "    <tr style=\"text-align: left;\">\n",
              "      <th>epoch</th>\n",
              "      <th>train_loss</th>\n",
              "      <th>valid_loss</th>\n",
              "      <th>accuracy</th>\n",
              "      <th>time</th>\n",
              "    </tr>\n",
              "  </thead>\n",
              "  <tbody>\n",
              "    <tr>\n",
              "      <td>0</td>\n",
              "      <td>8.288862</td>\n",
              "      <td>7.665881</td>\n",
              "      <td>0.053505</td>\n",
              "      <td>01:02</td>\n",
              "    </tr>\n",
              "    <tr>\n",
              "      <td>1</td>\n",
              "      <td>7.897895</td>\n",
              "      <td>7.433563</td>\n",
              "      <td>0.062343</td>\n",
              "      <td>01:03</td>\n",
              "    </tr>\n",
              "    <tr>\n",
              "      <td>2</td>\n",
              "      <td>7.534077</td>\n",
              "      <td>7.308970</td>\n",
              "      <td>0.068255</td>\n",
              "      <td>01:03</td>\n",
              "    </tr>\n",
              "    <tr>\n",
              "      <td>3</td>\n",
              "      <td>7.234313</td>\n",
              "      <td>7.240620</td>\n",
              "      <td>0.073407</td>\n",
              "      <td>01:03</td>\n",
              "    </tr>\n",
              "    <tr>\n",
              "      <td>4</td>\n",
              "      <td>6.976686</td>\n",
              "      <td>7.232811</td>\n",
              "      <td>0.077166</td>\n",
              "      <td>01:03</td>\n",
              "    </tr>\n",
              "    <tr>\n",
              "      <td>5</td>\n",
              "      <td>6.787736</td>\n",
              "      <td>7.230643</td>\n",
              "      <td>0.078445</td>\n",
              "      <td>01:03</td>\n",
              "    </tr>\n",
              "    <tr>\n",
              "      <td>6</td>\n",
              "      <td>6.698051</td>\n",
              "      <td>7.240894</td>\n",
              "      <td>0.078933</td>\n",
              "      <td>01:03</td>\n",
              "    </tr>\n",
              "  </tbody>\n",
              "</table>"
            ],
            "text/plain": [
              "<IPython.core.display.HTML object>"
            ]
          },
          "metadata": {
            "tags": []
          }
        }
      ]
    },
    {
      "cell_type": "code",
      "metadata": {
        "id": "W7-Ied9YWuqq",
        "colab_type": "code",
        "colab": {}
      },
      "source": [
        "# Save the fine-tuned encoder\n",
        "learn.save_encoder('ft_enc')"
      ],
      "execution_count": 0,
      "outputs": []
    },
    {
      "cell_type": "code",
      "metadata": {
        "id": "sUiydZCIfcX0",
        "colab_type": "code",
        "colab": {}
      },
      "source": [
        "# Classifier model data\n",
        "data_clas = TextClasDataBunch.from_csv(path, 'trrain.csv', vocab=data_lm.train_ds.vocab,\n",
        "                                       min_freq=1, bs=32)\n",
        "data_clas.save()"
      ],
      "execution_count": 0,
      "outputs": []
    },
    {
      "cell_type": "code",
      "metadata": {
        "id": "aI_3t1wLhUSz",
        "colab_type": "code",
        "outputId": "813590c5-6d51-427b-82f5-2ca8ca2edd4d",
        "colab": {
          "base_uri": "https://localhost:8080/",
          "height": 484
        }
      },
      "source": [
        "data_clas.show_batch()"
      ],
      "execution_count": 0,
      "outputs": [
        {
          "output_type": "display_data",
          "data": {
            "text/html": [
              "<table border=\"1\" class=\"dataframe\">\n",
              "  <thead>\n",
              "    <tr style=\"text-align: right;\">\n",
              "      <th>text</th>\n",
              "      <th>target</th>\n",
              "    </tr>\n",
              "  </thead>\n",
              "  <tbody>\n",
              "    <tr>\n",
              "      <td>xxbos polls rigged trump wildly xxunk surveys can not possibly correct michael television best place live united states prepare coming economic collapse may nd best place live united states get asked question time answer summed two words depends truth answer going different person us different goals different needs strong network family friends live right might want think twice moving hundreds thousands miles away great job live right might want hold</td>\n",
              "      <td>1</td>\n",
              "    </tr>\n",
              "    <tr>\n",
              "      <td>xxbos president putin speech valdai putin speech valdai jrl october president russia vladimir putin tarja heinz thabo colleagues ladies gentlemen great pleasure see want start thanking participants valdai international discussion club russia abroad constructive part work want thank distinguished guests readiness take part open discussion esteemed moderator wished good departure retirement wish time comes right approach thing retired yet leader big country fitting show restraint avoid displays excessive aggressiveness think</td>\n",
              "      <td>1</td>\n",
              "    </tr>\n",
              "    <tr>\n",
              "      <td>xxbos references debate started daniel blatman israeli historian head institute contemporary jewry hebrew university jerusalem penned op ed israeli daily haaretz stating ethnic cleansing exactly happened support blatman cited benny morris israeli historian blatman wrote determined arabs country encouraged leave expelled first stage war even arab nations armies invaded benny morris october aude cc sa prompted response morris wrote op ed titled israel conducted ethnic cleansing contends blatman distorts history</td>\n",
              "      <td>1</td>\n",
              "    </tr>\n",
              "    <tr>\n",
              "      <td>xxbos summer light fading gold near red square oliver stone maneuvered lobby bar moscow hotel last year walked past marble staircase grand piano table back group businessmen suits lingered nearby stone xxunk think move said producer xxunk xxunk led way another corner xxunk asked stone answer eyed older couple slurping soup kept moving moment later stone finally settled window comfortably beyond earshot patrons security precautions become routine ever since stone</td>\n",
              "      <td>0</td>\n",
              "    </tr>\n",
              "    <tr>\n",
              "      <td>xxbos list establishment republicans say voting hillary clinton staggering michael snyder august st would ever believed many big names republican party would publicly pledge vote hillary clinton election throughout primaries caucuses republican establishment expressed tremendous disdain donald trump unable derail march nomination reached general election biggest names gop actually taking unprecedented step crossing side publicly announcing support hillary clinton shows many individuals republicans name begin also demonstrates lengths elite willing</td>\n",
              "      <td>1</td>\n",
              "    </tr>\n",
              "  </tbody>\n",
              "</table>"
            ],
            "text/plain": [
              "<IPython.core.display.HTML object>"
            ]
          },
          "metadata": {
            "tags": []
          }
        }
      ]
    },
    {
      "cell_type": "code",
      "metadata": {
        "id": "OwBbSTPphrex",
        "colab_type": "code",
        "colab": {}
      },
      "source": [
        "learn = text_classifier_learner(data_clas, AWD_LSTM, drop_mult=0.5)\n",
        "learn.load_encoder('ft_enc')"
      ],
      "execution_count": 0,
      "outputs": []
    },
    {
      "cell_type": "code",
      "metadata": {
        "id": "2SF0y3lSh_IY",
        "colab_type": "code",
        "outputId": "35149b22-6017-4d15-9f68-4496fc4ee4c4",
        "colab": {
          "base_uri": "https://localhost:8080/",
          "height": 364
        }
      },
      "source": [
        "learn.lr_find()\n",
        "learn.recorder.plot()\n",
        "learn.fit_one_cycle(1, 2e-2, moms=(0.8,0.7))"
      ],
      "execution_count": 0,
      "outputs": [
        {
          "output_type": "display_data",
          "data": {
            "text/html": [
              ""
            ],
            "text/plain": [
              "<IPython.core.display.HTML object>"
            ]
          },
          "metadata": {
            "tags": []
          }
        },
        {
          "output_type": "stream",
          "text": [
            "LR Finder is complete, type {learner_name}.recorder.plot() to see the graph.\n"
          ],
          "name": "stdout"
        },
        {
          "output_type": "display_data",
          "data": {
            "text/html": [
              "<table border=\"1\" class=\"dataframe\">\n",
              "  <thead>\n",
              "    <tr style=\"text-align: left;\">\n",
              "      <th>epoch</th>\n",
              "      <th>train_loss</th>\n",
              "      <th>valid_loss</th>\n",
              "      <th>accuracy</th>\n",
              "      <th>time</th>\n",
              "    </tr>\n",
              "  </thead>\n",
              "  <tbody>\n",
              "    <tr>\n",
              "      <td>0</td>\n",
              "      <td>0.446348</td>\n",
              "      <td>0.297840</td>\n",
              "      <td>0.875000</td>\n",
              "      <td>00:28</td>\n",
              "    </tr>\n",
              "  </tbody>\n",
              "</table>"
            ],
            "text/plain": [
              "<IPython.core.display.HTML object>"
            ]
          },
          "metadata": {
            "tags": []
          }
        },
        {
          "output_type": "display_data",
          "data": {
            "image/png": "[encoded data removed]",
            "text/plain": [
              "<Figure size 432x288 with 1 Axes>"
            ]
          },
          "metadata": {
            "tags": []
          }
        }
      ]
    },
    {
      "cell_type": "code",
      "metadata": {
        "id": "BXnmRSgRjUhV",
        "colab_type": "code",
        "outputId": "e2fc1d26-294d-416b-f6d6-e96c9f42a123",
        "colab": {
          "base_uri": "https://localhost:8080/",
          "height": 81
        }
      },
      "source": [
        "learn.save('first')\n",
        "\n",
        "learn.load('first')\n",
        "learn.freeze_to(-2)\n",
        "learn.fit_one_cycle(1, slice(1e-2/(2.6**4),1e-2), moms=(0.8,0.7))\n",
        "\n"
      ],
      "execution_count": 0,
      "outputs": [
        {
          "output_type": "display_data",
          "data": {
            "text/html": [
              "<table border=\"1\" class=\"dataframe\">\n",
              "  <thead>\n",
              "    <tr style=\"text-align: left;\">\n",
              "      <th>epoch</th>\n",
              "      <th>train_loss</th>\n",
              "      <th>valid_loss</th>\n",
              "      <th>accuracy</th>\n",
              "      <th>time</th>\n",
              "    </tr>\n",
              "  </thead>\n",
              "  <tbody>\n",
              "    <tr>\n",
              "      <td>0</td>\n",
              "      <td>0.387119</td>\n",
              "      <td>0.269713</td>\n",
              "      <td>0.877500</td>\n",
              "      <td>00:34</td>\n",
              "    </tr>\n",
              "  </tbody>\n",
              "</table>"
            ],
            "text/plain": [
              "<IPython.core.display.HTML object>"
            ]
          },
          "metadata": {
            "tags": []
          }
        }
      ]
    },
    {
      "cell_type": "code",
      "metadata": {
        "id": "ULvrd-t4ky6j",
        "colab_type": "code",
        "outputId": "46268524-262a-4728-bf41-fc0d8cc2bc4d",
        "colab": {
          "base_uri": "https://localhost:8080/",
          "height": 112
        }
      },
      "source": [
        "learn.save('third')\n",
        "\n",
        "learn.load('third')\n",
        "learn.unfreeze()\n",
        "learn.fit_one_cycle(2, slice(1e-3/(2.6**4),1e-3), moms=(0.8,0.7))\n",
        "\n"
      ],
      "execution_count": 0,
      "outputs": [
        {
          "output_type": "display_data",
          "data": {
            "text/html": [
              "<table border=\"1\" class=\"dataframe\">\n",
              "  <thead>\n",
              "    <tr style=\"text-align: left;\">\n",
              "      <th>epoch</th>\n",
              "      <th>train_loss</th>\n",
              "      <th>valid_loss</th>\n",
              "      <th>accuracy</th>\n",
              "      <th>time</th>\n",
              "    </tr>\n",
              "  </thead>\n",
              "  <tbody>\n",
              "    <tr>\n",
              "      <td>0</td>\n",
              "      <td>0.298967</td>\n",
              "      <td>0.255579</td>\n",
              "      <td>0.892500</td>\n",
              "      <td>00:47</td>\n",
              "    </tr>\n",
              "    <tr>\n",
              "      <td>1</td>\n",
              "      <td>0.266743</td>\n",
              "      <td>0.246960</td>\n",
              "      <td>0.900000</td>\n",
              "      <td>01:04</td>\n",
              "    </tr>\n",
              "  </tbody>\n",
              "</table>"
            ],
            "text/plain": [
              "<IPython.core.display.HTML object>"
            ]
          },
          "metadata": {
            "tags": []
          }
        }
      ]
    },
    {
      "cell_type": "code",
      "metadata": {
        "id": "zOQA6byvs_3L",
        "colab_type": "code",
        "outputId": "611eb227-a374-413d-ec80-cf6c55a0773a",
        "cellView": "code",
        "colab": {
          "base_uri": "https://localhost:8080/",
          "height": 89
        }
      },
      "source": [
        "n=[]\n",
        "a=input(\"Input a news\")\n",
        "n.append(a)\n",
        "print(n)\n",
        "lk=str(learn.predict(n))\n",
        "print(lk[0])\n",
        "\n",
        "\n"
      ],
      "execution_count": 0,
      "outputs": [
        {
          "output_type": "stream",
          "text": [
            "Input a newsxxbos references debate started daniel blatman israeli historian head institute contemporary jewry hebrew university jerusalem penned op ed israeli daily haaretz stating ethnic cleansing exactly happened support blatman cited benny morris israeli historian blatman wrote determined arabs country encouraged leave expelled first stage war even arab nations armies invaded benny morris october aude cc sa prompted response morris wrote op ed titled israel conducted ethnic cleansing contends blatman distorts history\n",
            "['xxbos references debate started daniel blatman israeli historian head institute contemporary jewry hebrew university jerusalem penned op ed israeli daily haaretz stating ethnic cleansing exactly happened support blatman cited benny morris israeli historian blatman wrote determined arabs country encouraged leave expelled first stage war even arab nations armies invaded benny morris october aude cc sa prompted response morris wrote op ed titled israel conducted ethnic cleansing contends blatman distorts history']\n",
            "(\n"
          ],
          "name": "stdout"
        }
      ]
    },
    {
      "cell_type": "code",
      "metadata": {
        "id": "yxsWPpjQNa5y",
        "colab_type": "code",
        "outputId": "f06b8c99-067a-490e-a56a-dda793562d24",
        "colab": {
          "base_uri": "https://localhost:8080/",
          "height": 70
        }
      },
      "source": [
        "a=input(\"Input a news\")\n",
        "learn.predict(a)\n"
      ],
      "execution_count": 0,
      "outputs": [
        {
          "output_type": "stream",
          "text": [
            "Input a newsmystery surrounding third reich nazi germany still subject debate many observers believe nazi germany control adolf hitler possessed supernatural powers largely employed pseudo science period however also hold belief mere speculation without proven fact years researchers searched extensively answers mysterious activities associated nazi germany nazi germany invaded russia formerly ussr second world war june time german army progressed deep russian territory gaining ground close capital moscow russians could counter attack eventually driving nazis back nazi occupation russia nazis built secret military base around arctic code named schatzgraber treasure hunter reportedly instrumental war russia base primarily used tactical weather station planning strategic movements nazi troops warships submarines base also housed eminent nazi scientists conducted many experiments help progress german win war widely speculated time nazis used base contact aliens extraterrestrial beings controversial ahnenerbe even linked base ahnenerbe institute nazi germany responsible researching archaeological cultural history aryan race rumored heavy occult influences founded july heinrich himmler herman wirth richard walther darr ahnenerbe later conducted experiments launched expeditions attempts prove mythological nordic populations ruled world however nazis abandoned base time russian army began offensive pushing germans country according war time story supplies dwindled dangerously low levels nazi officers stationed base outpost forced kill eat polar bear ultimately infected trichinosis caused stationed base fall severely ill eventually required rescue german u boat despite russian authors telling story treasure hunter observers consider myth doubting existence russian researchers announced treasure hunter discovered saying base island alexandra land arctic circle located miles north pole senior researcher russian arctic national park evgeny ermolov said statement announcing discovery known written sources also real proof\n"
          ],
          "name": "stdout"
        },
        {
          "output_type": "execute_result",
          "data": {
            "text/plain": [
              "(Category 1, tensor(1), tensor([0.0108, 0.9892]))"
            ]
          },
          "metadata": {
            "tags": []
          },
          "execution_count": 38
        }
      ]
    },
    {
      "cell_type": "code",
      "metadata": {
        "id": "xcyfp7PuuO7M",
        "colab_type": "code",
        "outputId": "f2da604b-3b68-4010-d34b-7d92ce3af3e0",
        "colab": {
          "base_uri": "https://localhost:8080/",
          "height": 143
        }
      },
      "source": [
        "# get predictions\n",
        "preds, targets = learn.get_preds()\n",
        "predictions = np.argmax(preds, axis=1)\n",
        "pd.crosstab(predictions, targets)"
      ],
      "execution_count": 0,
      "outputs": [
        {
          "output_type": "execute_result",
          "data": {
            "text/html": [
              "<div>\n",
              "<style scoped>\n",
              "    .dataframe tbody tr th:only-of-type {\n",
              "        vertical-align: middle;\n",
              "    }\n",
              "\n",
              "    .dataframe tbody tr th {\n",
              "        vertical-align: top;\n",
              "    }\n",
              "\n",
              "    .dataframe thead th {\n",
              "        text-align: right;\n",
              "    }\n",
              "</style>\n",
              "<table border=\"1\" class=\"dataframe\">\n",
              "  <thead>\n",
              "    <tr style=\"text-align: right;\">\n",
              "      <th>col_0</th>\n",
              "      <th>0</th>\n",
              "      <th>1</th>\n",
              "    </tr>\n",
              "    <tr>\n",
              "      <th>row_0</th>\n",
              "      <th></th>\n",
              "      <th></th>\n",
              "    </tr>\n",
              "  </thead>\n",
              "  <tbody>\n",
              "    <tr>\n",
              "      <th>0</th>\n",
              "      <td>193</td>\n",
              "      <td>19</td>\n",
              "    </tr>\n",
              "    <tr>\n",
              "      <th>1</th>\n",
              "      <td>21</td>\n",
              "      <td>167</td>\n",
              "    </tr>\n",
              "  </tbody>\n",
              "</table>\n",
              "</div>"
            ],
            "text/plain": [
              "col_0    0    1\n",
              "row_0          \n",
              "0      193   19\n",
              "1       21  167"
            ]
          },
          "metadata": {
            "tags": []
          },
          "execution_count": 19
        }
      ]
    },
    {
      "cell_type": "code",
      "metadata": {
        "id": "39CD8ktIvtxV",
        "colab_type": "code",
        "outputId": "95fed19b-98ca-40f9-e51f-106f0187e59d",
        "colab": {
          "base_uri": "https://localhost:8080/",
          "height": 206
        }
      },
      "source": [
        "test = pd.read_csv('/content/Un.csv')\n",
        "test.tail()"
      ],
      "execution_count": 0,
      "outputs": [
        {
          "output_type": "execute_result",
          "data": {
            "text/html": [
              "<div>\n",
              "<style scoped>\n",
              "    .dataframe tbody tr th:only-of-type {\n",
              "        vertical-align: middle;\n",
              "    }\n",
              "\n",
              "    .dataframe tbody tr th {\n",
              "        vertical-align: top;\n",
              "    }\n",
              "\n",
              "    .dataframe thead th {\n",
              "        text-align: right;\n",
              "    }\n",
              "</style>\n",
              "<table border=\"1\" class=\"dataframe\">\n",
              "  <thead>\n",
              "    <tr style=\"text-align: right;\">\n",
              "      <th></th>\n",
              "      <th>label</th>\n",
              "      <th>text</th>\n",
              "    </tr>\n",
              "  </thead>\n",
              "  <tbody>\n",
              "    <tr>\n",
              "      <th>494</th>\n",
              "      <td>0</td>\n",
              "      <td>look renderings officially unveiled wednesday ...</td>\n",
              "    </tr>\n",
              "    <tr>\n",
              "      <th>495</th>\n",
              "      <td>1</td>\n",
              "      <td>cyber war trifle catastrophe ernest partridge ...</td>\n",
              "    </tr>\n",
              "    <tr>\n",
              "      <th>496</th>\n",
              "      <td>1</td>\n",
              "      <td>president putin speech valdai putin speech val...</td>\n",
              "    </tr>\n",
              "    <tr>\n",
              "      <th>497</th>\n",
              "      <td>0</td>\n",
              "      <td>even month ago mayor bill de blasio led boiste...</td>\n",
              "    </tr>\n",
              "    <tr>\n",
              "      <th>498</th>\n",
              "      <td>1</td>\n",
              "      <td>us drone strike afghanistan kills wounds sever...</td>\n",
              "    </tr>\n",
              "  </tbody>\n",
              "</table>\n",
              "</div>"
            ],
            "text/plain": [
              "     label                                               text\n",
              "494      0  look renderings officially unveiled wednesday ...\n",
              "495      1  cyber war trifle catastrophe ernest partridge ...\n",
              "496      1  president putin speech valdai putin speech val...\n",
              "497      0  even month ago mayor bill de blasio led boiste...\n",
              "498      1  us drone strike afghanistan kills wounds sever..."
            ]
          },
          "metadata": {
            "tags": []
          },
          "execution_count": 20
        }
      ]
    },
    {
      "cell_type": "code",
      "metadata": {
        "id": "km73xDU2xAYf",
        "colab_type": "code",
        "colab": {}
      },
      "source": [
        "test['news'] = test['text'].apply(lambda row: str(learn.predict(row)[0]))"
      ],
      "execution_count": 0,
      "outputs": []
    },
    {
      "cell_type": "code",
      "metadata": {
        "id": "Y7aN7ZyQGeVL",
        "colab_type": "code",
        "colab": {}
      },
      "source": [
        "# Write train to csv\n",
        "test.to_csv('/content/demo2.csv', index=False, header=False)"
      ],
      "execution_count": 0,
      "outputs": []
    },
    {
      "cell_type": "markdown",
      "metadata": {
        "id": "f_UbNUHSIQB8",
        "colab_type": "text"
      },
      "source": [
        ""
      ]
    },
    {
      "cell_type": "code",
      "metadata": {
        "id": "WJBlop2zE78m",
        "colab_type": "code",
        "outputId": "10b5a834-6cdd-4f02-b142-3b44d4c41262",
        "colab": {
          "base_uri": "https://localhost:8080/",
          "height": 206
        }
      },
      "source": [
        "test.tail()"
      ],
      "execution_count": 0,
      "outputs": [
        {
          "output_type": "execute_result",
          "data": {
            "text/html": [
              "<div>\n",
              "<style scoped>\n",
              "    .dataframe tbody tr th:only-of-type {\n",
              "        vertical-align: middle;\n",
              "    }\n",
              "\n",
              "    .dataframe tbody tr th {\n",
              "        vertical-align: top;\n",
              "    }\n",
              "\n",
              "    .dataframe thead th {\n",
              "        text-align: right;\n",
              "    }\n",
              "</style>\n",
              "<table border=\"1\" class=\"dataframe\">\n",
              "  <thead>\n",
              "    <tr style=\"text-align: right;\">\n",
              "      <th></th>\n",
              "      <th>label</th>\n",
              "      <th>text</th>\n",
              "      <th>news</th>\n",
              "    </tr>\n",
              "  </thead>\n",
              "  <tbody>\n",
              "    <tr>\n",
              "      <th>494</th>\n",
              "      <td>0</td>\n",
              "      <td>look renderings officially unveiled wednesday ...</td>\n",
              "      <td>0</td>\n",
              "    </tr>\n",
              "    <tr>\n",
              "      <th>495</th>\n",
              "      <td>1</td>\n",
              "      <td>cyber war trifle catastrophe ernest partridge ...</td>\n",
              "      <td>1</td>\n",
              "    </tr>\n",
              "    <tr>\n",
              "      <th>496</th>\n",
              "      <td>1</td>\n",
              "      <td>president putin speech valdai putin speech val...</td>\n",
              "      <td>0</td>\n",
              "    </tr>\n",
              "    <tr>\n",
              "      <th>497</th>\n",
              "      <td>0</td>\n",
              "      <td>even month ago mayor bill de blasio led boiste...</td>\n",
              "      <td>0</td>\n",
              "    </tr>\n",
              "    <tr>\n",
              "      <th>498</th>\n",
              "      <td>1</td>\n",
              "      <td>us drone strike afghanistan kills wounds sever...</td>\n",
              "      <td>1</td>\n",
              "    </tr>\n",
              "  </tbody>\n",
              "</table>\n",
              "</div>"
            ],
            "text/plain": [
              "     label                                               text news\n",
              "494      0  look renderings officially unveiled wednesday ...    0\n",
              "495      1  cyber war trifle catastrophe ernest partridge ...    1\n",
              "496      1  president putin speech valdai putin speech val...    0\n",
              "497      0  even month ago mayor bill de blasio led boiste...    0\n",
              "498      1  us drone strike afghanistan kills wounds sever...    1"
            ]
          },
          "metadata": {
            "tags": []
          },
          "execution_count": 29
        }
      ]
    },
    {
      "cell_type": "code",
      "metadata": {
        "id": "aWV1lJq_dqEu",
        "colab_type": "code",
        "colab": {}
      },
      "source": [
        "import model_evaluation_utils as meu\n",
        "meu.get_metrics(true_labels=test_labels, \n",
        "predicted_labels=predictions)"
      ],
      "execution_count": 0,
      "outputs": []
    },
    {
      "cell_type": "code",
      "metadata": {
        "id": "rvnn9S4VQkoi",
        "colab_type": "code",
        "outputId": "f4c1e4b0-772e-4bc2-b25e-8f6d88801a87",
        "colab": {
          "base_uri": "https://localhost:8080/",
          "height": 205
        }
      },
      "source": [
        "import csv\n",
        "\n",
        "print(\"----------------------------------------------Fake News Detector----------------------------------------------------\")\n",
        "print(\" \")\n",
        "a=input(\"Input a News: \")\n",
        "print( \" \")\n",
        "print(\"Processing----\")\n",
        "print(\" \" )\n",
        "print(\"Processing Done!\")\n",
        "print( \" \")\n",
        "\n",
        "a=cleanup(a)\n",
        "with open('/content/demo1.csv','w') as file:\n",
        "  writer = csv.writer(file)\n",
        "  writer.writerow(('text','Label'))\n",
        "  writer.writerow((a,'nil'))\n",
        "test = pd.read_csv('/content/demo1.csv')\n",
        "\n",
        "test['news'] = test['text'].apply(lambda row: str(learn.predict(row)[0]))\n",
        "test.tail()\n",
        "target = test.loc[0,'news']\n",
        "#print(target)\n",
        "print(\" \" )\n",
        "if(target == '1'):\n",
        "  print(\"Beware... It's a Fake news!!\")\n",
        "else:\n",
        "  print(\"No worries.. It is Real News\")\n"
      ],
      "execution_count": 0,
      "outputs": [
        {
          "output_type": "stream",
          "text": [
            "----------------------------------------------Fake News Detector----------------------------------------------------\n",
            " \n",
            "Input a News: wednesday donald trump press conference trump tower new york city nbc meet press moderator chuck todd expressed exasperation normalcy called circus surrounding trump event struck big picture wise normal circus us todd said circus never seen transition like saw today press conference gets interrupted lawyer lawyer half legal talk half political spin never seen using lawyer say make america great way going play constitutional lawyer think clearly constitutional lawyer told us better accept money made exception struck normal crazy looked us today crazy scene norm donald trump fact comfortable say political show donald trump want press conferences made press look disjointed unorganized stuff people know performance supporters people later segment todd decried saw elements within intelligence community odds one another called story put buzzfeed night earlier suggesting trump ties russia political favor look let honest todd said politically buzzfeed donald trump political favor today going ahead making public allowed deny specific without deal bigger picture follow jeff poor twitter jeff poor\n",
            " \n",
            "Processing----\n",
            " \n",
            "Processing Done!\n",
            " \n",
            " \n",
            "No worries.. It is Real News\n"
          ],
          "name": "stdout"
        }
      ]
    }
  ]
}